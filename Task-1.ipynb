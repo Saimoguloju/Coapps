{
 "cells": [
  {
   "cell_type": "code",
   "execution_count": 1,
   "id": "9c99caf5",
   "metadata": {},
   "outputs": [
    {
     "name": "stdout",
     "output_type": "stream",
     "text": [
      "{'vowels': 6, 'consonants': 5}\n"
     ]
    }
   ],
   "source": [
    "def count_vowels_consonants(string): \n",
    "    \n",
    "    vowels = set('aeiouAEIOU')\n",
    "    vowel_count = 0\n",
    "    consonant_count = 0\n",
    "\n",
    "    for char in string:\n",
    "        if char.isalpha():   \n",
    "            if char in vowels:\n",
    "                vowel_count += 1\n",
    "            else:\n",
    "                consonant_count += 1\n",
    "    print({'vowels': vowel_count, 'consonants': consonant_count})\n",
    "\n",
    "string = \"Moguloju Sai\"\n",
    "res = count_vowels_consonants(string)\n"
   ]
  },
  {
   "cell_type": "code",
   "execution_count": null,
   "id": "253df2a6",
   "metadata": {},
   "outputs": [],
   "source": []
  }
 ],
 "metadata": {
  "kernelspec": {
   "display_name": "Python 3 (ipykernel)",
   "language": "python",
   "name": "python3"
  },
  "language_info": {
   "codemirror_mode": {
    "name": "ipython",
    "version": 3
   },
   "file_extension": ".py",
   "mimetype": "text/x-python",
   "name": "python",
   "nbconvert_exporter": "python",
   "pygments_lexer": "ipython3",
   "version": "3.10.9"
  }
 },
 "nbformat": 4,
 "nbformat_minor": 5
}
